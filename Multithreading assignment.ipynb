{
 "cells": [
  {
   "cell_type": "markdown",
   "id": "dea9092c-f63f-4092-a4f4-313271c007b2",
   "metadata": {},
   "source": [
    "## Q1. What is multithreading in python? why is it used? name the module used to handle threads in pyhton."
   ]
  },
  {
   "cell_type": "markdown",
   "id": "4e7177bc-ad00-4277-a6c1-33af86e601bf",
   "metadata": {},
   "source": [
    "#Ans: 1\n",
    "\n",
    "**Multithreading:**\n",
    "Multithreading is a programming technique that allows multiple threads of execution to run concurrently within a single process. In Python, multithreading is achieved through the use of the threading module.\n",
    "\n",
    "**Why multithreading is used in python:**\n",
    "\n",
    "The primary purpose of using multithreading in Python (or any programming language) is to improve the performance of a program by allowing it to perform multiple tasks concurrently. By using multiple threads, a program can take advantage of the available CPU cores, which can lead to significant performance improvements.\n",
    "\n",
    "In Python, multithreading can be used in a wide variety of applications, including web scraping, data analysis, and network programming. For example, a web scraper may use multiple threads to download and process data from multiple websites simultaneously. A data analysis tool may use multiple threads to perform computationally intensive tasks such as machine learning or natural language processing. A network programming application may use multiple threads to handle multiple client connections simultaneously.\n",
    "\n",
    "It's important to note that while multithreading can improve performance in certain situations, it's not always the best solution. In some cases, using multiprocessing or asynchronous programming may be a better choice. Additionally, multithreading can introduce some complexity and potential issues such as race conditions and deadlocks, so it's important to use it judiciously and with care.\n",
    "\n",
    "**Name the module used to handle threads in pyhton:**\n",
    "\n",
    "The module used to handle threads in Python is called threading. It provides a simple way to create and manage threads in a Python program. The threading module provides the Thread class, which is used to create a new thread. It also provides various methods and functions to manage and control threads, such as start(), join(), setDaemon(), and Lock()."
   ]
  },
  {
   "cell_type": "markdown",
   "id": "aa4fd992-c53e-4e32-9925-605631908cd6",
   "metadata": {},
   "source": [
    "## Q2. Why threading module used ? write the use of the following functions:\n",
    "1. activeCount()\n",
    "2. currentThread()\n",
    "3. enumerate()\n"
   ]
  },
  {
   "cell_type": "markdown",
   "id": "7057f527-b85b-43e3-a351-ba9d8c39f2a2",
   "metadata": {},
   "source": [
    "#Ans: 2\n",
    "\n",
    "The threading module is used in Python to enable multithreading, which allows a program to perform multiple tasks concurrently. This can improve the performance of the program by taking advantage of the available CPU cores. The threading module provides a simple way to create and manage threads in a Python program. It provides the Thread class to create a new thread, and various methods and functions to manage and control threads, By using the threading module, developers can write concurrent programs in Python that can perform multiple tasks simultaneously, which can lead to significant performance improvements in certain situations.\n",
    "\n",
    "\n",
    "\n",
    "**Use of activeCount()**\n",
    "\n",
    "activeCount(): This function is used to get the number of currently active Thread objects. It returns an integer value that represents the number of active threads in the current program.\n",
    "\n",
    "**Use of currentThread()**\n",
    "\n",
    "currentThread(): This function is used to get the current Thread object. It returns a Thread object that represents the current thread of execution.\n",
    "\n",
    "**Use of enumerate()**\n",
    "\n",
    "enumerate(): This function is used to get a list of all Thread objects that are currently active. It returns a list of Thread objects that represents all active threads in the current program. The function takes an optional argument, which is a boolean value that indicates whether to include only the active daemon threads or all threads, including non-daemon threads. If the argument is not provided, it defaults to False, which means that all threads are included in the list.\n"
   ]
  },
  {
   "cell_type": "markdown",
   "id": "8cf3c70e-569e-40d8-a49f-2a1a4ce0dee3",
   "metadata": {},
   "source": [
    "## Q3. Explain the following functions:\n",
    "    1. run()\n",
    "    2. start()\n",
    "    3. join()\n",
    "    4. isAlive()\n"
   ]
  },
  {
   "cell_type": "markdown",
   "id": "d60ca40d-54b4-417a-abc9-f72622faaef8",
   "metadata": {},
   "source": [
    "#Ans: 3\n",
    "\n",
    "**1.run()**\n",
    "\n",
    "run() function is not a built-in function in python. However, it is a method that is part of the Thread class in the threading module. The run() method is the entry point for a new thread of execution. When you create a new thread by creating an instance of the Thread class and calling its start() method, the run() method of that instance is called in a separate thread."
   ]
  },
  {
   "cell_type": "code",
   "execution_count": 6,
   "id": "fceec76a-0fc5-44d9-8960-a9f62fa68597",
   "metadata": {},
   "outputs": [
    {
     "name": "stdout",
     "output_type": "stream",
     "text": [
      "Hello from Chote Miyan! \n",
      "Hello from Bade Miyan!\n"
     ]
    }
   ],
   "source": [
    "#Here is an example of run() method:\n",
    "import threading\n",
    "\n",
    "class MyThread(threading.Thread):\n",
    "    def run(self):\n",
    "        print(\"Hello from Chote Miyan! \")\n",
    "\n",
    "# create an instance of MyThread class\n",
    "my_thread = MyThread()\n",
    "\n",
    "# start the thread\n",
    "my_thread.start()\n",
    "\n",
    "# main thread continues executing\n",
    "print(\"Hello from Bade Miyan!\")\n"
   ]
  },
  {
   "cell_type": "markdown",
   "id": "94101b3a-96e7-4524-8923-220304f9380f",
   "metadata": {},
   "source": [
    "**2.start()**\n",
    "\n",
    "start() is a method that is used to start a new thread of execution in python. A thread is a separate flow of execution within a program, and using multiple threads can help to improve the performance and responsiveness of a program."
   ]
  },
  {
   "cell_type": "code",
   "execution_count": 7,
   "id": "f4d1f380-415d-4afc-9de4-8fbd3d9fa432",
   "metadata": {},
   "outputs": [
    {
     "name": "stdout",
     "output_type": "stream",
     "text": [
      "My car's speed becomes %d 0\n",
      "My car's speed becomes %d 1\n",
      "My car's speed becomes %d 2\n",
      "My car's speed becomes %d 3\n",
      "My car's speed becomes %d 4\n",
      "My car's speed becomes %d 5\n",
      "My car's speed becomes %d 6\n",
      "My car's speed becomes %d 7\n",
      "My car's speed becomes %d 8\n",
      "My car's speed becomes %d 9\n",
      "My car's speed becomes %d 10\n",
      "My car's speed becomes %d 11\n",
      "My car's speed becomes %d 12\n",
      "My car's speed becomes %d 13\n",
      "My car's speed becomes %d 14\n"
     ]
    }
   ],
   "source": [
    "import threading\n",
    "def krish(id):\n",
    "    print(\"My car's speed becomes %d\" , id)\n",
    "    \n",
    "thread = [threading.Thread(target= krish, args= (i,)) for i in range(15)]\n",
    "for k in thread :\n",
    "    k.start()"
   ]
  },
  {
   "cell_type": "markdown",
   "id": "03208ee0-8ba6-4c90-9feb-c653bd92beba",
   "metadata": {},
   "source": [
    "**3.join()**\n",
    "\n",
    "The join() function in Python is used to join a sequence of strings together with a specified delimiter character. The resulting string will be a concatenation of all the strings in the sequence, separated by the specified delimiter."
   ]
  },
  {
   "cell_type": "code",
   "execution_count": 8,
   "id": "4faa4061-b482-44b8-a6a9-bd8442559a6b",
   "metadata": {},
   "outputs": [
    {
     "name": "stdout",
     "output_type": "stream",
     "text": [
      "Radhe Krishna Jai shree Ram\n"
     ]
    }
   ],
   "source": [
    "#Here is an example of join() method:\n",
    "\n",
    "# Define a list of strings\n",
    "list = [\"Radhe\", \"Krishna\", \"Jai shree\", \"Ram\"]\n",
    "\n",
    "# Join the list of strings using a space as the delimiter\n",
    "sentence = \" \".join(list)\n",
    "\n",
    "# Print the resulting string\n",
    "print(sentence)\n"
   ]
  },
  {
   "cell_type": "markdown",
   "id": "eb90808a-aea8-43d8-bfc8-9fd59e4389c0",
   "metadata": {},
   "source": [
    "**4.isAlive()**\n",
    "\n",
    "The isAlive() function is not a built-in function in Python. However, it is a method that can be used with the threading module.\n",
    "\n",
    "The isAlive() method is used to check whether a thread is still running or has completed its execution. It returns a boolean value True if the thread is still running, and False if it has completed its execution"
   ]
  },
  {
   "cell_type": "code",
   "execution_count": 20,
   "id": "7ec58c33-e703-45d8-a793-64066b9a1c3e",
   "metadata": {},
   "outputs": [
    {
     "name": "stdout",
     "output_type": "stream",
     "text": [
      "Starting my_function\n",
      "Current thread is alive: True\n",
      "Ending my_function\n",
      "Main thread is alive: True\n",
      "Thread is alive: False\n"
     ]
    }
   ],
   "source": [
    "import threading\n",
    "\n",
    "def my_function():\n",
    "    print(\"Starting my_function\")\n",
    "    print(\"Current thread is alive:\", threading.current_thread().is_alive())\n",
    "    print(\"Ending my_function\")\n",
    "\n",
    "thread1 = threading.Thread(target=my_function)\n",
    "thread1.start()\n",
    "time.sleep(1)\n",
    "\n",
    "print(\"Main thread is alive:\", threading.current_thread().is_alive())\n",
    "\n",
    "thread1.join()\n",
    "print(\"Thread is alive:\", thread1.is_alive())\n"
   ]
  },
  {
   "cell_type": "markdown",
   "id": "5b8fad63-d750-44a5-a6ec-404369ad80a6",
   "metadata": {},
   "source": [
    "## Q4. write a python program to create two threads. Thread one must print the list of squares and thread two must print the list of cubes.\n"
   ]
  },
  {
   "cell_type": "code",
   "execution_count": 22,
   "id": "95bb4241-dc22-4451-a653-400845943bd4",
   "metadata": {},
   "outputs": [
    {
     "name": "stdout",
     "output_type": "stream",
     "text": [
      "1 squared is 1\n",
      "2 squared is 4\n",
      "3 squared is 9\n",
      "4 squared is 16\n",
      "5 squared is 25\n",
      "6 squared is 36\n",
      "7 squared is 49\n",
      "8 squared is 64\n",
      "9 squared is 81\n",
      "10 squared is 100\n",
      "1 cubed os 1\n",
      "2 cubed os 8\n",
      "3 cubed os 27\n",
      "4 cubed os 64\n",
      "5 cubed os 125\n",
      "6 cubed os 216\n",
      "7 cubed os 343\n",
      "8 cubed os 512\n",
      "9 cubed os 729\n",
      "10 cubed os 1000\n"
     ]
    }
   ],
   "source": [
    "#Ans: 4\n",
    "\n",
    "import threading \n",
    "\n",
    "#define a function to print the square of numbers form 1 to 10\n",
    "def print_squares():\n",
    "    for i in range(1,11):\n",
    "        print(f\"{i} squared is {i*i}\")\n",
    "        \n",
    "        \n",
    "        \n",
    "#define a function to print the cubes of numbers from 1 to 10 \n",
    "def print_cubes():\n",
    "    for i in range(1,11):\n",
    "        print(f\"{i} cubed os {i*i*i}\")\n",
    "        \n",
    "\n",
    "#create two threads , one for each function\n",
    "t1 = threading.Thread(target= print_squares)\n",
    "t2 = threading.Thread(target= print_cubes)\n",
    "\n",
    "#start both threads\n",
    "t1.start()\n",
    "t2.start()\n",
    "\n",
    "t1.join()\n",
    "t2.join()"
   ]
  },
  {
   "cell_type": "markdown",
   "id": "1ea22f86-19af-4dc6-ad17-e42a866f6882",
   "metadata": {},
   "source": [
    "## Q5. State advantages and disadvantages of multithreading.\n"
   ]
  },
  {
   "cell_type": "markdown",
   "id": "9e502330-426c-44ed-9f8a-05d69b89e505",
   "metadata": {},
   "source": [
    "#Ans: 5\n",
    "\n",
    "Multithreading is a technique that allows multiple threads of execution to run concurrently within the same program. Each thread operates independently of the others, and they can share resources and data with each other as needed\n",
    "\n",
    "\n",
    "\n",
    "**Advantages of Multithreading:**\n",
    "\n",
    "\n",
    "\n",
    "**Increased throughput and responsiveness:** Multithreading can increase the throughput and responsiveness of a program by allowing multiple tasks to be executed simultaneously.\n",
    "\n",
    "**Better resource utilization:** Multithreading allows better utilization of system resources, such as CPU, memory, and I/O devices, by distributing the workload across multiple threads.\n",
    "\n",
    "**Improved performance:** Multithreading can improve the performance of a program by taking advantage of the multiple cores available in modern processors.\n",
    "\n",
    "**Enhanced modularity:** Multithreading can improve the modularity of a program by allowing different parts of the program to be executed independently, which can simplify program design and maintenance.\n",
    "\n",
    "**Better user experience:** Multithreading can improve the user experience of a program by allowing it to respond more quickly to user input and to perform background tasks without interfering with the main task.\n",
    "\n",
    "\n",
    "\n",
    "\n",
    "**Disadvantages of Multithreading:**\n",
    "\n",
    "\n",
    "\n",
    "**Complexity:** Multithreading can add complexity to a program, making it harder to design, debug, and maintain.\n",
    "\n",
    "**Race conditions:** Multithreading can introduce race conditions, where two or more threads access the same resource simultaneously, leading to unexpected and sometimes incorrect behavior.\n",
    "\n",
    "**Synchronization overhead:** Multithreading requires synchronization mechanisms, such as locks and semaphores, to ensure that threads access shared resources in a mutually exclusive manner. This synchronization overhead can reduce the performance of the program.\n",
    "\n",
    "**Deadlocks:** Multithreading can lead to deadlocks, where two or more threads are blocked waiting for each other to release a resource they need.\n",
    "\n",
    "**Increased memory usage:** Multithreading can increase the memory usage of a program, as each thread requires its own stack and other resources. This can be a problem in memory-constrained environments."
   ]
  },
  {
   "cell_type": "markdown",
   "id": "80b5e04a-de1a-40a9-a5c3-062a15c98dab",
   "metadata": {},
   "source": [
    "## Q6. Explain deadlocks and race coditions."
   ]
  },
  {
   "cell_type": "markdown",
   "id": "4c25121b-9dcc-4b40-9537-6467935925e6",
   "metadata": {},
   "source": [
    "#Ans: 6\n",
    "\n",
    "Deadlocks and race conditions are two common problems that can occur in multi-threaded or multi-process programs.\n",
    "\n",
    "\n",
    "**deadlock conditions:**\n",
    "A deadlock occurs when two or more threads or processes are blocked indefinitely, waiting for each other to release a resource that they need to proceed. This situation can arise when two or more threads acquire locks on resources in a different order, and each thread is waiting for a resource that is currently held by another thread. Deadlocks can cause programs to hang or crash, and they can be difficult to debug and resolve.\n",
    "\n",
    "\n",
    "**race condition:**\n",
    "A race condition occurs when the outcome of a program depends on the order in which two or more threads or processes execute. This can happen when multiple threads or processes try to access the same shared resource concurrently, and the outcome depends on the timing of these accesses. For example, if two threads try to write to the same memory location at the same time, the resulting value may be unpredictable. Race conditions can cause programs to produce incorrect results, and they can be difficult to reproduce and debug.\n",
    "\n",
    "Both deadlocks and race conditions are often caused by improper synchronization of shared resources, such as locks or semaphores. To avoid these problems, it is important to carefully design and test multi-threaded or multi-process programs, and to use synchronization mechanisms correctly and consistently throughout the code."
   ]
  },
  {
   "cell_type": "code",
   "execution_count": null,
   "id": "45ac369c-6fdc-4a39-9a9b-686110b50470",
   "metadata": {},
   "outputs": [],
   "source": []
  }
 ],
 "metadata": {
  "kernelspec": {
   "display_name": "Python 3 (ipykernel)",
   "language": "python",
   "name": "python3"
  },
  "language_info": {
   "codemirror_mode": {
    "name": "ipython",
    "version": 3
   },
   "file_extension": ".py",
   "mimetype": "text/x-python",
   "name": "python",
   "nbconvert_exporter": "python",
   "pygments_lexer": "ipython3",
   "version": "3.10.8"
  }
 },
 "nbformat": 4,
 "nbformat_minor": 5
}
